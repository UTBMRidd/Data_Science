{
 "cells": [
  {
   "cell_type": "code",
   "execution_count": 3,
   "metadata": {},
   "outputs": [],
   "source": [
    "import numpy as np\n",
    "import matplotlib.pyplot as pp"
   ]
  },
  {
   "cell_type": "code",
   "execution_count": 16,
   "metadata": {},
   "outputs": [],
   "source": [
    "def show_function(points, m,b):\n",
    "    x = np.array([0,1,2,3,4,5])\n",
    "    pp.plot(points[0],points[1],'ro',x,m*x+b)\n",
    "    pp.plot()\n",
    "    return\n"
   ]
  },
  {
   "cell_type": "code",
   "execution_count": 27,
   "metadata": {},
   "outputs": [],
   "source": [
    "def cost_MSE(points, m,b):\n",
    "    nb = points[0].size\n",
    "    sum = 0\n",
    "    for i in range(0,nb):\n",
    "        sum = sum + (points[1,i] -(m*points[0,i] + b))**2\n",
    "    return sum/(nb)"
   ]
  },
  {
   "cell_type": "code",
   "execution_count": 48,
   "metadata": {},
   "outputs": [],
   "source": [
    "def gradient_descent(points,m,b, learning_rate):\n",
    "    nb = points[0].size\n",
    "    m_deriv = 0\n",
    "    b_deriv = 0\n",
    "    for i in range(0,nb):\n",
    "        # -2x(y - (mx + b))\n",
    "        m_deriv = m_deriv -2*points[0,i]*(points[1,i] -(m*points[0,i] + b))\n",
    "        # -2(y - (mx + b))\n",
    "        b_deriv = b_deriv - 2*(points[1,i] -(m*points[0,i] + b))\n",
    "    m_current = m - (m_deriv/nb) * learning_rate\n",
    "    b_current = b - (b_deriv/nb) * learning_rate\n",
    "    return m_current, b_current"
   ]
  },
  {
   "cell_type": "code",
   "execution_count": 58,
   "metadata": {},
   "outputs": [],
   "source": [
    "def train(points,m,b,learning_rate, iters):\n",
    "    for i in range(iters):\n",
    "        m,b = gradient_descent(points,m,b,learning_rate)\n",
    "    return m,b"
   ]
  },
  {
   "cell_type": "code",
   "execution_count": 60,
   "metadata": {
    "scrolled": false
   },
   "outputs": [
    {
     "data": {
      "image/png": "[encoded data removed]",
      "text/plain": [
       "<matplotlib.figure.Figure at 0x1ecc49b1940>"
      ]
     },
     "metadata": {},
     "output_type": "display_data"
    }
   ],
   "source": [
    "points = np.array([[0,1,2,3,4,5],[2,3,4,7,6,7]])\n",
    "a,c = train(points,1,0,0.1,500)\n",
    "show_function(points, a,c)"
   ]
  }
 ],
 "metadata": {
  "kernelspec": {
   "display_name": "Python 3",
   "language": "python",
   "name": "python3"
  },
  "language_info": {
   "codemirror_mode": {
    "name": "ipython",
    "version": 3
   },
   "file_extension": ".py",
   "mimetype": "text/x-python",
   "name": "python",
   "nbconvert_exporter": "python",
   "pygments_lexer": "ipython3",
   "version": "3.6.4"
  }
 },
 "nbformat": 4,
 "nbformat_minor": 2
}
